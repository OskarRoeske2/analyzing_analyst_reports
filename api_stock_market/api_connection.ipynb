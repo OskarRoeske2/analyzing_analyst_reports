{
 "cells": [
  {
   "cell_type": "code",
   "execution_count": 3,
   "metadata": {},
   "outputs": [],
   "source": [
    "import pandas as pd\n",
    "import finnews\n"
   ]
  },
  {
   "cell_type": "code",
   "execution_count": 4,
   "metadata": {},
   "outputs": [],
   "source": [
    "stock_data = pd.read_csv(\"/Users/oskarroeske/Masterthesis/scraped_data/analyst_recommendations_jan_feb_2023.csv\")"
   ]
  },
  {
   "cell_type": "code",
   "execution_count": 5,
   "metadata": {},
   "outputs": [
    {
     "data": {
      "text/html": [
       "<div>\n",
       "<style scoped>\n",
       "    .dataframe tbody tr th:only-of-type {\n",
       "        vertical-align: middle;\n",
       "    }\n",
       "\n",
       "    .dataframe tbody tr th {\n",
       "        vertical-align: top;\n",
       "    }\n",
       "\n",
       "    .dataframe thead th {\n",
       "        text-align: right;\n",
       "    }\n",
       "</style>\n",
       "<table border=\"1\" class=\"dataframe\">\n",
       "  <thead>\n",
       "    <tr style=\"text-align: right;\">\n",
       "      <th></th>\n",
       "      <th>url</th>\n",
       "      <th>title</th>\n",
       "      <th>published_date</th>\n",
       "      <th>full_text</th>\n",
       "      <th>source</th>\n",
       "      <th>company_name</th>\n",
       "      <th>company_name_short</th>\n",
       "      <th>company_id</th>\n",
       "      <th>industry_general</th>\n",
       "      <th>industry</th>\n",
       "    </tr>\n",
       "  </thead>\n",
       "  <tbody>\n",
       "    <tr>\n",
       "      <th>0</th>\n",
       "      <td>https://www.marketscreener.com/quote/stock/BAY...</td>\n",
       "      <td>BAYER AG  :  Jefferies gives a Buy rating</td>\n",
       "      <td>February 28, 2023 at 04:17 pm EST</td>\n",
       "      <td>Jefferies is positive on the stock with a Buy ...</td>\n",
       "      <td>© MarketScreener with dpa-AFX Analyser - 2023</td>\n",
       "      <td>Bayer AG</td>\n",
       "      <td>BAYN</td>\n",
       "      <td>DE000BAY0017</td>\n",
       "      <td>Equities</td>\n",
       "      <td>Pharmaceuticals</td>\n",
       "    </tr>\n",
       "    <tr>\n",
       "      <th>1</th>\n",
       "      <td>https://www.marketscreener.com/quote/stock/NEL...</td>\n",
       "      <td>NEL ASA  :  Buy rating from RBC</td>\n",
       "      <td>February 28, 2023 at 04:12 pm EST</td>\n",
       "      <td>In a research note published by Erwan Keroured...</td>\n",
       "      <td>© MarketScreener with dpa-AFX Analyser - 2023</td>\n",
       "      <td>Nel ASA</td>\n",
       "      <td>NEL</td>\n",
       "      <td>NO0010081235</td>\n",
       "      <td>Equities</td>\n",
       "      <td>Renewable Energy Equipment &amp; Services</td>\n",
       "    </tr>\n",
       "    <tr>\n",
       "      <th>2</th>\n",
       "      <td>https://www.marketscreener.com/quote/stock/FIE...</td>\n",
       "      <td>FIELMANN AG  :  Baader Bank reiterates its Buy...</td>\n",
       "      <td>February 28, 2023 at 12:38 pm EST</td>\n",
       "      <td>In a research note, Baader Bank analyst Volker...</td>\n",
       "      <td>© MarketScreener with dpa-AFX Analyser - 2023</td>\n",
       "      <td>Fielmann Group AG</td>\n",
       "      <td>FIE</td>\n",
       "      <td>DE0005772206</td>\n",
       "      <td>Equities</td>\n",
       "      <td>Other Specialty Retailers</td>\n",
       "    </tr>\n",
       "    <tr>\n",
       "      <th>3</th>\n",
       "      <td>https://www.marketscreener.com/quote/stock/HEL...</td>\n",
       "      <td>HELLOFRESH  :  DZ Bank reaffirms its Neutral r...</td>\n",
       "      <td>February 28, 2023 at 12:07 pm EST</td>\n",
       "      <td>DZ Bank confirms his opinion on the stock and ...</td>\n",
       "      <td>© MarketScreener with dpa-AFX Analyser - 2023</td>\n",
       "      <td>HelloFresh SE</td>\n",
       "      <td>HFG</td>\n",
       "      <td>DE000A161408</td>\n",
       "      <td>Equities</td>\n",
       "      <td>Food Retail &amp; Distribution</td>\n",
       "    </tr>\n",
       "    <tr>\n",
       "      <th>4</th>\n",
       "      <td>https://www.marketscreener.com/quote/stock/EUT...</td>\n",
       "      <td>Eutelsat : share price downturn, a broker's an...</td>\n",
       "      <td>February 28, 2023 at 11:42 am EST</td>\n",
       "      <td>Eutelsat is down more than 1% in Paris, as Ber...</td>\n",
       "      <td>© Cercle Finance - 2023</td>\n",
       "      <td>Eutelsat Communications</td>\n",
       "      <td>ETL</td>\n",
       "      <td>FR0010221234</td>\n",
       "      <td>Equities</td>\n",
       "      <td>Wireless Telecommunications Services</td>\n",
       "    </tr>\n",
       "  </tbody>\n",
       "</table>\n",
       "</div>"
      ],
      "text/plain": [
       "                                                 url  \\\n",
       "0  https://www.marketscreener.com/quote/stock/BAY...   \n",
       "1  https://www.marketscreener.com/quote/stock/NEL...   \n",
       "2  https://www.marketscreener.com/quote/stock/FIE...   \n",
       "3  https://www.marketscreener.com/quote/stock/HEL...   \n",
       "4  https://www.marketscreener.com/quote/stock/EUT...   \n",
       "\n",
       "                                               title  \\\n",
       "0          BAYER AG  :  Jefferies gives a Buy rating   \n",
       "1                    NEL ASA  :  Buy rating from RBC   \n",
       "2  FIELMANN AG  :  Baader Bank reiterates its Buy...   \n",
       "3  HELLOFRESH  :  DZ Bank reaffirms its Neutral r...   \n",
       "4  Eutelsat : share price downturn, a broker's an...   \n",
       "\n",
       "                      published_date  \\\n",
       "0  February 28, 2023 at 04:17 pm EST   \n",
       "1  February 28, 2023 at 04:12 pm EST   \n",
       "2  February 28, 2023 at 12:38 pm EST   \n",
       "3  February 28, 2023 at 12:07 pm EST   \n",
       "4  February 28, 2023 at 11:42 am EST   \n",
       "\n",
       "                                           full_text  \\\n",
       "0  Jefferies is positive on the stock with a Buy ...   \n",
       "1  In a research note published by Erwan Keroured...   \n",
       "2  In a research note, Baader Bank analyst Volker...   \n",
       "3  DZ Bank confirms his opinion on the stock and ...   \n",
       "4  Eutelsat is down more than 1% in Paris, as Ber...   \n",
       "\n",
       "                                          source             company_name  \\\n",
       "0  © MarketScreener with dpa-AFX Analyser - 2023                 Bayer AG   \n",
       "1  © MarketScreener with dpa-AFX Analyser - 2023                  Nel ASA   \n",
       "2  © MarketScreener with dpa-AFX Analyser - 2023        Fielmann Group AG   \n",
       "3  © MarketScreener with dpa-AFX Analyser - 2023            HelloFresh SE   \n",
       "4                        © Cercle Finance - 2023  Eutelsat Communications   \n",
       "\n",
       "  company_name_short    company_id industry_general  \\\n",
       "0               BAYN  DE000BAY0017         Equities   \n",
       "1                NEL  NO0010081235         Equities   \n",
       "2                FIE  DE0005772206         Equities   \n",
       "3                HFG  DE000A161408         Equities   \n",
       "4                ETL  FR0010221234         Equities   \n",
       "\n",
       "                                industry  \n",
       "0                        Pharmaceuticals  \n",
       "1  Renewable Energy Equipment & Services  \n",
       "2              Other Specialty Retailers  \n",
       "3             Food Retail & Distribution  \n",
       "4   Wireless Telecommunications Services  "
      ]
     },
     "execution_count": 5,
     "metadata": {},
     "output_type": "execute_result"
    }
   ],
   "source": [
    "stock_data.head()"
   ]
  },
  {
   "cell_type": "code",
   "execution_count": 1,
   "metadata": {},
   "outputs": [
    {
     "name": "stderr",
     "output_type": "stream",
     "text": [
      "[*********************100%***********************]  1 of 1 completed"
     ]
    },
    {
     "name": "stdout",
     "output_type": "stream",
     "text": [
      "299.5899963378906\n"
     ]
    },
    {
     "name": "stderr",
     "output_type": "stream",
     "text": [
      "\n"
     ]
    }
   ],
   "source": [
    "import yfinance as yf\n",
    "from datetime import datetime, timedelta\n",
    "\n",
    "def get_stock_price_nearest(ticker, date):\n",
    "    try:\n",
    "        # Convert date string to a datetime object\n",
    "        target_date = datetime.strptime(date, '%Y-%m-%d')\n",
    "\n",
    "        # Define a range around the target date to fetch data\n",
    "        start_date = (target_date - timedelta(days=5)).strftime('%Y-%m-%d')\n",
    "        end_date = (target_date + timedelta(days=5)).strftime('%Y-%m-%d')\n",
    "\n",
    "        # Download data within this range\n",
    "        stock_data = yf.download(ticker, start=start_date, end=end_date)\n",
    "\n",
    "        if not stock_data.empty:\n",
    "            # Check if data exists for the exact date\n",
    "            if target_date.strftime('%Y-%m-%d') in stock_data.index.strftime('%Y-%m-%d'):\n",
    "                return stock_data.loc[target_date.strftime('%Y-%m-%d')]['Close']\n",
    "            else:\n",
    "                # Find the closest available trading day\n",
    "                closest_day = stock_data.index.get_loc(target_date, method='nearest')\n",
    "                closest_date = stock_data.index[closest_day]\n",
    "                closest_price = stock_data['Close'].iloc[closest_day]\n",
    "                return f\"No data for {date}. Nearest available trading day: {closest_date.strftime('%Y-%m-%d')} with price ${closest_price:.2f}\"\n",
    "        else:\n",
    "            return f\"No data found for {ticker} within the date range.\"\n",
    "    \n",
    "    except yf.shared.YFPricesMissingError as e:\n",
    "        return f\"Error fetching data: {str(e)}\"\n",
    "\n",
    "    except Exception as e:\n",
    "        return f\"An unexpected error occurred: {str(e)}\"\n",
    "\n",
    "\n",
    "# Example usage\n",
    "ticker_symbol = 'RACE'\n",
    "specific_date = '2023-10-04'\n",
    "\n",
    "price_info = get_stock_price_nearest(ticker_symbol, specific_date)\n",
    "\n",
    "print(price_info)\n"
   ]
  },
  {
   "cell_type": "code",
   "execution_count": 18,
   "metadata": {},
   "outputs": [
    {
     "data": {
      "text/plain": [
       "{'current': 417.13,\n",
       " 'low': 440.0,\n",
       " 'high': 600.0,\n",
       " 'mean': 496.38,\n",
       " 'median': 500.0}"
      ]
     },
     "execution_count": 18,
     "metadata": {},
     "output_type": "execute_result"
    }
   ],
   "source": [
    "#msft.analyst_price_targets\n",
    "#msft.news"
   ]
  }
 ],
 "metadata": {
  "kernelspec": {
   "display_name": "Python 3",
   "language": "python",
   "name": "python3"
  },
  "language_info": {
   "codemirror_mode": {
    "name": "ipython",
    "version": 3
   },
   "file_extension": ".py",
   "mimetype": "text/x-python",
   "name": "python",
   "nbconvert_exporter": "python",
   "pygments_lexer": "ipython3",
   "version": "3.11.6"
  }
 },
 "nbformat": 4,
 "nbformat_minor": 2
}
