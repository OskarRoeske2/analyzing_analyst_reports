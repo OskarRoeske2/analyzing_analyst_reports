{
 "cells": [
  {
   "cell_type": "code",
   "execution_count": 111,
   "metadata": {},
   "outputs": [
    {
     "name": "stderr",
     "output_type": "stream",
     "text": [
      "[nltk_data] Downloading package stopwords to\n",
      "[nltk_data]     /Users/oskarroeske/nltk_data...\n",
      "[nltk_data]   Package stopwords is already up-to-date!\n"
     ]
    }
   ],
   "source": [
    "import pandas as pd\n",
    "import time\n",
    "import numpy as np\n",
    "import nltk\n",
    "nltk.download('stopwords')\n",
    "from nltk.corpus import stopwords\n",
    "from gensim.parsing.preprocessing import STOPWORDS, strip_tags, strip_numeric, strip_punctuation, strip_multiple_whitespaces, remove_stopwords\n",
    "from groq import Groq\n",
    "import os\n",
    "from dotenv import load_dotenv\n",
    "from nltk.tokenize import sent_tokenize\n",
    "import json"
   ]
  },
  {
   "cell_type": "code",
   "execution_count": 112,
   "metadata": {},
   "outputs": [],
   "source": [
    "df_evaluation = pd.read_csv(\"evaluation_sentences.csv\")"
   ]
  },
  {
   "cell_type": "code",
   "execution_count": 113,
   "metadata": {},
   "outputs": [],
   "source": [
    "list_of_arguments = [\n",
    "    \"Earnings per Share\",\n",
    "    \"Cash Flow\",\n",
    "    \"Revenue\",\n",
    "    \"Return on Equity\",\n",
    "    \"Margins\",\n",
    "    \"Cost Management\",\n",
    "    \"Dividend Policy\",\n",
    "    \"Investments\",\n",
    "    \"Balance Sheet\",\n",
    "    \"Long-term Growth\",\n",
    "    \"Mergers and Acquisition\",\n",
    "    \"Refranchising\",\n",
    "    \"Sustainability\",\n",
    "    \"Employees\",\n",
    "    \"Research and Development\",\n",
    "    \"Marketing\",\n",
    "    \"Shares Repurchase\",\n",
    "    \"Processes\",\n",
    "    \"Leadership\",\n",
    "    \"Innovation\",\n",
    "    \"Product Characteristics\",\n",
    "    \"Pricing Strategy\",\n",
    "    \"Production\",\n",
    "    \"Technology Trends\",\n",
    "    \"Market Share\",\n",
    "    \"Market Expansion\",\n",
    "    \"Competitors\",\n",
    "    \"Global Presence\",\n",
    "    \"Industry Outlook\",\n",
    "    \"Regulations\",\n",
    "    \"Partnerships and Collaborations\",\n",
    "    \"Supply Chain\",\n",
    "    \"Economic Conditions\",\n",
    "    \"Demand\",\n",
    "    \"Customers\"\n",
    "]\n"
   ]
  },
  {
   "cell_type": "code",
   "execution_count": 114,
   "metadata": {},
   "outputs": [],
   "source": [
    "#list_of_arguments = [\"Financial Performance\",\"Revenue Growth\"]\n",
    "# paragraph removed from instructions: - New categories must be generic, concise (max 3 words), and included in the output for list updates.\n",
    "\"\"\"You will classify financial text into predefined categories or create a new one if needed:\n",
    "- Assign arguments to the best-matching category. Create a new category only if no match fits.\n",
    "- IGNORE brand names/Target Prices/Recommendations/Valuation as arguments.\n",
    "- Classify each argument as positive, negative, or neutral.\n",
    "- Include new categories in the output.\n",
    "- Return only the JSON dictionary, no extra text.\n",
    "\n",
    "In system_content: Categories: [{categories_string}]\n",
    "\"\"\"\n",
    "\n",
    "\n",
    "def find_arguments(text, api_key):\n",
    "    client = Groq(api_key=api_key)\n",
    "\n",
    "    categories_string = ', '.join(f'\"{cat}\"' for cat in list_of_arguments)\n",
    "\n",
    "    system_content = f\"\"\"You will classify financial sentences into predefined categories or create a new one if needed:\n",
    "- Assign arguments to the best-matching category. Create a new category only if no match fits.\n",
    "- IGNORE brand names/Target Prices/Recommendations/Valuation as arguments.\n",
    "- If no meaningful argument is mentioned in the text, return \"None\"\n",
    "- Include new categories in the output.\n",
    "- Return only the best-fitting category as a String\n",
    "- Print only the result! No other text!\n",
    "Categories: [{categories_string}]\n",
    "\"\"\"\n",
    "    final_prompt = f\"\"\"\n",
    "        Text: {text}\n",
    "       \"\"\"\n",
    "    response = client.chat.completions.create(\n",
    "        messages=[\n",
    "            {\n",
    "                \"role\": \"system\",\n",
    "                \"content\": system_content,\n",
    "            },\n",
    "            {\n",
    "                \"role\": \"user\",\n",
    "                \"content\": final_prompt,\n",
    "            }\n",
    "        ],\n",
    "        temperature=0,\n",
    "        model=\"llama-3.3-70b-versatile\",\n",
    "    )\n",
    "\n",
    "    return response.choices[0].message.content"
   ]
  },
  {
   "cell_type": "code",
   "execution_count": 115,
   "metadata": {},
   "outputs": [],
   "source": [
    "import json\n",
    "from itertools import cycle\n",
    "\n",
    "# Load API key\n",
    "load_dotenv()\n",
    "\n",
    "api_key = os.getenv(\"GROQ_API_KEY\")\n",
    "\n",
    "def extract_arguments_and_sentiment(commentary):\n",
    "    global list_of_arguments  # Ensure we can modify the global categories list\n",
    "    result = None\n",
    "    \n",
    "    # Call the find_arguments function with the selected API key\n",
    "    result_json = find_arguments(commentary, api_key)   \n",
    "        \n",
    "    # Check for new categories and add them to the global list\n",
    "    if result_json not in list_of_arguments:\n",
    "        list_of_arguments.append(result_json)  # Dynamically update the categories list\n",
    "                \n",
    "    time.sleep(4)\n",
    "    if result_json is not None:\n",
    "        result = result_json\n",
    "    return result"
   ]
  },
  {
   "cell_type": "code",
   "execution_count": 116,
   "metadata": {},
   "outputs": [],
   "source": [
    "keywords_dict = {\n",
    "    \"Financial Performance\": {\n",
    "        \"Earnings per Share\": [],\n",
    "        \"Cash Flow\":[],\n",
    "        \"Revenue\": [],\n",
    "        \"Return on Equity\": [],\n",
    "        \"Margins\": [],\n",
    "        \"Cost Management\": [],\n",
    "        \"Dividend Policy\": [],\n",
    "        \"Investments\": [],\n",
    "        \"Balance Sheet\": [],\n",
    "    },\n",
    "    \"Company\": {\n",
    "        \"Long-term Growth\": [],\n",
    "        \"Mergers and Acquisition\": [],\n",
    "        \"Refranchising\": [],\n",
    "        \"Sustainability\": [],\n",
    "        \"Employees\": [],\n",
    "        \"Research and Development\":[],\n",
    "        \"Marketing\":[],\n",
    "        \"Shares Repurchase\": [],\n",
    "        \"Processes\":[],\n",
    "        \"Leadership\":[],\n",
    "    },\n",
    "    \"Product\": {\n",
    "        \"Innovation\": [],\n",
    "        \"Product Characteristics\":[],\n",
    "        \"Pricing Strategy\":[],\n",
    "        \"Production\": [],\n",
    "        \"Technology Trends\":[]\n",
    "    },\n",
    "    \"Market\": {\n",
    "        \"Market Share\": [],\n",
    "        \"Market Expansion\": [],\n",
    "        \"Competitors\":[],\n",
    "        \"Global Presence\": [],\n",
    "        \"Industry Outlook\":[],\n",
    "\t\t\"Regulations\":[],\n",
    "        \"Partnerships and Collaborations\":[],\n",
    "        \"Supply Chain\":[],\n",
    "        \"Economic Conditions\": [],\n",
    "        \"Demand\":[],\n",
    "        \"Customers\": []\n",
    "    }\n",
    "}\n"
   ]
  },
  {
   "cell_type": "code",
   "execution_count": 117,
   "metadata": {},
   "outputs": [],
   "source": [
    "df_evaluation[\"predicted_arguments\"] = df_evaluation[\"Sentence\"].apply(extract_arguments_and_sentiment)"
   ]
  },
  {
   "cell_type": "markdown",
   "metadata": {},
   "source": [
    "# Sentiment"
   ]
  },
  {
   "cell_type": "code",
   "execution_count": 118,
   "metadata": {},
   "outputs": [
    {
     "data": {
      "text/plain": [
       "'TP_sentiment = 0\\nFP_sentiment = 0\\n\\n# Evaluate each row\\nfor index, row in df_evaluation.iterrows():\\n    actual_sentiment, predicted_sentiment = row[\"Sentiment\"].lower(), row[\"predicted_sentiment\"].lower()\\n    if actual_sentiment == predicted_sentiment:\\n        TP_sentiment += 1  # Correct argument assigned\\n    else:\\n        FP_sentiment += 1\\n\\n\\n# Calculate precision_category, recall_category, and F1_category score\\naccuracy_sentiment = TP_sentiment / (TP_sentiment + FP_sentiment)\\n\\nprint(f\"TP_sentiment: {TP_sentiment}\")\\nprint(f\"FP_sentiment: {FP_sentiment}\")\\nprint(f\"accuracy_sentiment: {accuracy_sentiment}\")'"
      ]
     },
     "execution_count": 118,
     "metadata": {},
     "output_type": "execute_result"
    }
   ],
   "source": [
    "\"\"\"TP_sentiment = 0\n",
    "FP_sentiment = 0\n",
    "\n",
    "# Evaluate each row\n",
    "for index, row in df_evaluation.iterrows():\n",
    "    actual_sentiment, predicted_sentiment = row[\"Sentiment\"].lower(), row[\"predicted_sentiment\"].lower()\n",
    "    if actual_sentiment == predicted_sentiment:\n",
    "        TP_sentiment += 1  # Correct argument assigned\n",
    "    else:\n",
    "        FP_sentiment += 1\n",
    "\n",
    "\n",
    "# Calculate precision_category, recall_category, and F1_category score\n",
    "accuracy_sentiment = TP_sentiment / (TP_sentiment + FP_sentiment)\n",
    "\n",
    "print(f\"TP_sentiment: {TP_sentiment}\")\n",
    "print(f\"FP_sentiment: {FP_sentiment}\")\n",
    "print(f\"accuracy_sentiment: {accuracy_sentiment}\")\"\"\""
   ]
  },
  {
   "cell_type": "code",
   "execution_count": 119,
   "metadata": {},
   "outputs": [
    {
     "data": {
      "text/plain": [
       "'df_evaluation.to_csv(\"llama_sentiment_testing.csv\")'"
      ]
     },
     "execution_count": 119,
     "metadata": {},
     "output_type": "execute_result"
    }
   ],
   "source": [
    "\"\"\"df_evaluation.to_csv(\"llama_sentiment_testing.csv\")\"\"\""
   ]
  },
  {
   "cell_type": "markdown",
   "metadata": {},
   "source": [
    "# Argument Level"
   ]
  },
  {
   "cell_type": "code",
   "execution_count": 124,
   "metadata": {},
   "outputs": [
    {
     "name": "stdout",
     "output_type": "stream",
     "text": [
      "True Positives (TP): 70\n",
      "False Positives (FP): 52\n",
      "False Positives 2 (FP): 10\n",
      "False Negatives (FN): 2\n",
      "True Negatives (TN): 16\n",
      "Precision: 0.5303030303030303\n",
      "Recall: 0.9722222222222222\n",
      "F1 Score: 0.6862745098039216\n"
     ]
    }
   ],
   "source": [
    "# Initialize counts\n",
    "TP = 0  # True Positive\n",
    "FP = 0  # False Positive (Wrong argument assigned)\n",
    "FP2 = 0 # False positive (no argument should have been assigned)\n",
    "FN = 0  # False Negative\n",
    "TN = 0  # True Negative\n",
    "\n",
    "# Evaluate each row\n",
    "for index, row in df_evaluation.iterrows():\n",
    "    actual, predicted = row[\"Label\"], row[\"predicted_arguments\"]\n",
    "    if actual == predicted and not pd.isna(actual):\n",
    "        TP += 1  # Correct argument assigned\n",
    "    elif pd.isna(actual) and predicted == \"None\":\n",
    "        TN += 1  #no actual argument and none assigned\n",
    "    elif not pd.isna(actual) and predicted == \"None\":\n",
    "        FN += 1  # No argument was assigned\n",
    "    elif actual != predicted and pd.isna(actual):\n",
    "        FP2 += 1  # Argument assigned when no should be\n",
    "    elif actual != predicted:\n",
    "        FP += 1  # Wrong argument assigned\n",
    "\n",
    "# Print counts\n",
    "print(f\"True Positives (TP): {TP}\")\n",
    "print(f\"False Positives (FP): {FP}\")\n",
    "print(f\"False Positives 2 (FP): {FP2}\")\n",
    "print(f\"False Negatives (FN): {FN}\")\n",
    "print(f\"True Negatives (TN): {TN}\")\n",
    "\n",
    "FP = FP + FP2\n",
    "\n",
    "# Calculate precision, recall, and F1 score\n",
    "precision = TP / (TP + FP) if (TP + FP) > 0 else 0\n",
    "recall = TP / (TP + FN) if (TP + FN) > 0 else 0\n",
    "f1 = 2 * (precision * recall) / (precision + recall) if (precision + recall) > 0 else 0\n",
    "\n",
    "print(f\"Precision: {precision}\")\n",
    "print(f\"Recall: {recall}\")\n",
    "print(f\"F1 Score: {f1}\")"
   ]
  },
  {
   "cell_type": "code",
   "execution_count": 121,
   "metadata": {},
   "outputs": [
    {
     "data": {
      "image/png": "[encoded data removed]",
      "text/plain": [
       "<Figure size 800x600 with 2 Axes>"
      ]
     },
     "metadata": {},
     "output_type": "display_data"
    }
   ],
   "source": [
    "import matplotlib.pyplot as plt\n",
    "import seaborn as sns  \n",
    "\n",
    "# Data for the confusion matrix\n",
    "confusion_data = {\n",
    "    \"Assigned Argument\": [TP, FP],  \n",
    "    \"Assigned None\": [FN, TN]  \n",
    "}\n",
    "\n",
    "confusion_matrix = pd.DataFrame(\n",
    "    confusion_data, \n",
    "    index=[\"Actual Argument\", \"No Argument\"]\n",
    ")\n",
    "\n",
    "# Create a heatmap\n",
    "plt.figure(figsize=(8, 6))\n",
    "sns.heatmap(confusion_matrix, annot=True, fmt=\"d\", cmap=\"Blues\")\n",
    "\n",
    "# Add labels and title\n",
    "plt.title(\"Confusion Matrix\")\n",
    "plt.xlabel(\"Predicted\")\n",
    "plt.ylabel(\"Actual\")\n",
    "plt.show()\n"
   ]
  },
  {
   "cell_type": "markdown",
   "metadata": {},
   "source": [
    "# Category Level"
   ]
  },
  {
   "cell_type": "code",
   "execution_count": 125,
   "metadata": {},
   "outputs": [],
   "source": [
    "reverse_mapping = {}\n",
    "for overall_category, subcategories in keywords_dict.items():\n",
    "    for subcategory in subcategories:\n",
    "        reverse_mapping[subcategory] = overall_category\n",
    "\n",
    "def get_overall_category(subcategory):\n",
    "    return reverse_mapping.get(subcategory, \"Unknown Category\")\n",
    "\n",
    "\n",
    "df_evaluation[\"actual_category\"] = df_evaluation[\"Label\"].apply(get_overall_category)\n",
    "df_evaluation[\"predicted_category\"] = df_evaluation[\"predicted_arguments\"].apply(get_overall_category)\n"
   ]
  },
  {
   "cell_type": "code",
   "execution_count": 126,
   "metadata": {},
   "outputs": [
    {
     "name": "stdout",
     "output_type": "stream",
     "text": [
      "True Positives (TP): 94\n",
      "False Positives (FP): 26\n",
      "False Positives 2 (FP): 11\n",
      "False Negatives (FN): 3\n",
      "True Negatives (TN): 16\n",
      "Precision_category: 0.7175572519083969\n",
      "Recall_category: 0.9690721649484536\n",
      "F1_category Score: 0.8245614035087719\n"
     ]
    },
    {
     "data": {
      "image/png": "[encoded data removed]",
      "text/plain": [
       "<Figure size 800x600 with 2 Axes>"
      ]
     },
     "metadata": {},
     "output_type": "display_data"
    }
   ],
   "source": [
    "\n",
    "# Initialize counts\n",
    "TP_category = 0  # True Positive\n",
    "FP_category = 0  # False Positive (Wrong category assigned)\n",
    "FP_category2 = 0 # False positive (no category should have been assigned)\n",
    "FN_category = 0  # False Negative\n",
    "TN_category = 0  # True Negative\n",
    "\n",
    "for index, row in df_evaluation.iterrows():\n",
    "    actual_category, predicted_category = row[\"actual_category\"], row[\"predicted_category\"]\n",
    "    if actual_category == predicted_category and actual_category != \"Unknown Category\":\n",
    "        TP_category += 1  # Correct argument assigned\n",
    "    elif  actual_category == \"Unknown Category\" and predicted_category == \"Unknown Category\":\n",
    "        TN_category += 1  # No cateogry was given and none was predicted\n",
    "    elif actual_category != \"Unknown Category\" and predicted_category == \"Unknown Category\":\n",
    "        FN_category += 1  # No argument was assigned\n",
    "    elif actual_category != predicted_category and actual_category == \"Unknown Category\":\n",
    "        FP_category2 += 1  # Argument assigned when no should be\n",
    "    elif actual_category != predicted_category:\n",
    "        FP_category += 1  # Wrong argument assigned\n",
    "\n",
    "# Print counts\n",
    "print(f\"True Positives (TP): {TP_category}\")\n",
    "print(f\"False Positives (FP): {FP_category}\")\n",
    "print(f\"False Positives 2 (FP): {FP_category2}\")\n",
    "print(f\"False Negatives (FN): {FN_category}\")\n",
    "print(f\"True Negatives (TN): {TN_category}\")\n",
    "\n",
    "\n",
    "FP_category = FP_category + FP_category2\n",
    "\n",
    "# Calculate precision_category, recall_category, and F1_category score\n",
    "precision_category = TP_category / (TP_category + FP_category) if (TP_category + FP_category) > 0 else 0\n",
    "recall_category = TP_category / (TP_category + FN_category) if (TP_category + FN_category) > 0 else 0\n",
    "f1_category = 2 * (precision_category * recall_category) / (precision_category + recall_category) if (precision_category + recall_category) > 0 else 0\n",
    "\n",
    "print(f\"Precision_category: {precision_category}\")\n",
    "print(f\"Recall_category: {recall_category}\")\n",
    "print(f\"F1_category Score: {f1_category}\")\n",
    "\n",
    "\n",
    "import matplotlib.pyplot as plt\n",
    "import seaborn as sns\n",
    "import pandas as pd\n",
    "\n",
    "# Confusion matrix data\n",
    "confusion_data_category = {\n",
    "    \"Category\": [TP_category, FP_category],\n",
    "    \"Different Category\": [FN_category, TN_category]    \n",
    "}\n",
    "\n",
    "# create confusion matrix\n",
    "confusion_matrix_category = pd.DataFrame(\n",
    "    confusion_data_category, \n",
    "    index=[\"Category\", \"Different Category\"]  # Row labels\n",
    ")\n",
    "\n",
    "#Create heat map\n",
    "plt.figure(figsize=(8, 6))\n",
    "sns.heatmap(confusion_matrix_category, annot=True, fmt=\"d\", cmap=\"Blues\")\n",
    "plt.title(\"Confusion Matrix for Categories\")\n",
    "plt.xlabel(\"Predicted\")\n",
    "plt.ylabel(\"Actual\")\n",
    "plt.show()\n"
   ]
  },
  {
   "cell_type": "code",
   "execution_count": null,
   "metadata": {},
   "outputs": [],
   "source": []
  }
 ],
 "metadata": {
  "kernelspec": {
   "display_name": "Python 3",
   "language": "python",
   "name": "python3"
  },
  "language_info": {
   "codemirror_mode": {
    "name": "ipython",
    "version": 3
   },
   "file_extension": ".py",
   "mimetype": "text/x-python",
   "name": "python",
   "nbconvert_exporter": "python",
   "pygments_lexer": "ipython3",
   "version": "3.11.6"
  }
 },
 "nbformat": 4,
 "nbformat_minor": 2
}
