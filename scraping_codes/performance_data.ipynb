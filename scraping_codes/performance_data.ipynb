{
 "cells": [
  {
   "cell_type": "code",
   "execution_count": 49,
   "metadata": {},
   "outputs": [
    {
     "name": "stderr",
     "output_type": "stream",
     "text": [
      "[*********************100%***********************]  63 of 63 completed\n",
      "\n",
      "1 Failed download:\n",
      "['BANKTR']: YFTzMissingError('$%ticker%: possibly delisted; no timezone found')\n"
     ]
    }
   ],
   "source": [
    "import yfinance as yf\n",
    "\n",
    "tickers = [\n",
    "    \"AAPL\", \"AMZN\", \"MSFT\", \"TSLA\", \"META\", \"GOOGL\", \"INTC\", \"NVDA\", \n",
    "    \"PFE\", \"JNJ\", \"KO\", \"PEP\", \"XOM\", \"CVX\", \"WMT\", \"JPM\", \"WFC\", \n",
    "    \"T\", \"VZ\", \"MRK\", \"HON\", \"LMT\", \"F\", \"GM\", \"EBAY\", \"MCD\", \"SBUX\", \n",
    "    \"CRM\", \"PYPL\", \"V\", \"MA\", \"COST\", \"HD\", \"NKE\", \"NEM\", \n",
    "    \"FCX\", \"FDX\", \"UNP\", \"X\", \"UA\", \"FL\", \"ETSY\", \"TRIP\", \"COTY\", \n",
    "    \"MUR\", \"AMCR\", \"PRGO\",\"PG\",\"BAC\",\"C\",\"ABT\",\"GE\",\"BA\" \n",
    "    \"NKTR\", \"SIG\", \"URBN\", \"NBR\", \"BKNG\", \"EXPE\", \"EL\", \"ULTA\", \"LULU\",\n",
    "    \"ADBE\",\"CSCO\"\n",
    "]\n",
    "\n",
    "# Define the date range\n",
    "start_date = \"2014-01-01\"\n",
    "end_date = \"2022-12-31\"\n",
    "\n",
    "# Download data for the specified tickers and date range\n",
    "data = yf.download(tickers, start=start_date, end=end_date,actions=True)\n",
    "\n",
    "\n",
    "# Select only the \"Adj Close\" column\n",
    "close_data = data['Close']\n",
    "#close_data = data['Close']\n",
    "\n",
    "# Display the first few rows of the adjusted close data\n",
    "#adj_close_data\n"
   ]
  },
  {
   "cell_type": "code",
   "execution_count": 45,
   "metadata": {},
   "outputs": [],
   "source": [
    "import pandas as pd\n",
    "df = pd.DataFrame(close_data)"
   ]
  },
  {
   "cell_type": "code",
   "execution_count": 46,
   "metadata": {},
   "outputs": [
    {
     "data": {
      "text/plain": [
       "Date\n",
       "2014-01-02 00:00:00+00:00    19.898500\n",
       "2014-01-03 00:00:00+00:00    19.822001\n",
       "2014-01-06 00:00:00+00:00    19.681499\n",
       "2014-01-07 00:00:00+00:00    19.901501\n",
       "2014-01-08 00:00:00+00:00    20.096001\n",
       "                               ...    \n",
       "2022-12-23 00:00:00+00:00    85.250000\n",
       "2022-12-27 00:00:00+00:00    83.040001\n",
       "2022-12-28 00:00:00+00:00    81.820000\n",
       "2022-12-29 00:00:00+00:00    84.180000\n",
       "2022-12-30 00:00:00+00:00    84.000000\n",
       "Name: AMZN, Length: 2266, dtype: float64"
      ]
     },
     "execution_count": 46,
     "metadata": {},
     "output_type": "execute_result"
    }
   ],
   "source": [
    "df[\"AMZN\"]"
   ]
  },
  {
   "cell_type": "code",
   "execution_count": 17,
   "metadata": {},
   "outputs": [],
   "source": [
    "#pd.to_datetime(df['Date']).apply(lambda x: x.date())\n",
    "\n",
    "# Set 'Date' as the index to enable date filtering\n",
    "#df = df.set_index('Date')\n",
    "\n",
    "# Convert all columns (except the Date) to numeric, forcing errors to NaN\n",
    "df[df.columns] = df[df.columns].apply(pd.to_numeric, errors='coerce')"
   ]
  },
  {
   "cell_type": "code",
   "execution_count": 18,
   "metadata": {},
   "outputs": [],
   "source": [
    "df.to_csv(\"performance_data_testing.csv\")"
   ]
  },
  {
   "cell_type": "code",
   "execution_count": 19,
   "metadata": {},
   "outputs": [],
   "source": [
    "df.to_csv(\"performance_data.csv\")"
   ]
  },
  {
   "cell_type": "code",
   "execution_count": 28,
   "metadata": {},
   "outputs": [
    {
     "name": "stdout",
     "output_type": "stream",
     "text": [
      "<class 'pandas.core.frame.DataFrame'>\n",
      "DatetimeIndex: 501 entries, 2022-10-24 00:00:00+00:00 to 2024-10-21 00:00:00+00:00\n",
      "Columns: 1242 entries, ('Adj Close', 'AAPL') to ('Volume', 'ZTS')\n",
      "dtypes: float64(1040), int64(202)\n",
      "memory usage: 4.8 MB\n"
     ]
    }
   ],
   "source": [
    "df.info()"
   ]
  },
  {
   "cell_type": "code",
   "execution_count": null,
   "metadata": {},
   "outputs": [],
   "source": []
  }
 ],
 "metadata": {
  "kernelspec": {
   "display_name": "Python 3",
   "language": "python",
   "name": "python3"
  },
  "language_info": {
   "codemirror_mode": {
    "name": "ipython",
    "version": 3
   },
   "file_extension": ".py",
   "mimetype": "text/x-python",
   "name": "python",
   "nbconvert_exporter": "python",
   "pygments_lexer": "ipython3",
   "version": "3.11.6"
  }
 },
 "nbformat": 4,
 "nbformat_minor": 2
}
