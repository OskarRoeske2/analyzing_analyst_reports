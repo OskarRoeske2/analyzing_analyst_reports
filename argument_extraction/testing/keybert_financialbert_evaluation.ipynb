{
 "cells": [
  {
   "cell_type": "code",
   "execution_count": 678,
   "metadata": {},
   "outputs": [
    {
     "name": "stderr",
     "output_type": "stream",
     "text": [
      "Python(53109) MallocStackLogging: can't turn off malloc stack logging because it was not enabled.\n",
      "huggingface/tokenizers: The current process just got forked, after parallelism has already been used. Disabling parallelism to avoid deadlocks...\n",
      "To disable this warning, you can either:\n",
      "\t- Avoid using `tokenizers` before the fork if possible\n",
      "\t- Explicitly set the environment variable TOKENIZERS_PARALLELISM=(true | false)\n"
     ]
    },
    {
     "name": "stdout",
     "output_type": "stream",
     "text": [
      "Requirement already satisfied: adaptkeybert in /Library/Frameworks/Python.framework/Versions/3.11/lib/python3.11/site-packages (0.0.2)\n",
      "Requirement already satisfied: datasets in /Library/Frameworks/Python.framework/Versions/3.11/lib/python3.11/site-packages (3.1.0)\n",
      "Requirement already satisfied: transformers in /Library/Frameworks/Python.framework/Versions/3.11/lib/python3.11/site-packages (4.47.0)\n",
      "Requirement already satisfied: sentence-transformers in /Library/Frameworks/Python.framework/Versions/3.11/lib/python3.11/site-packages (3.3.1)\n",
      "Requirement already satisfied: pandas in /Library/Frameworks/Python.framework/Versions/3.11/lib/python3.11/site-packages (2.2.3)\n",
      "Requirement already satisfied: keybert in /Library/Frameworks/Python.framework/Versions/3.11/lib/python3.11/site-packages (0.8.5)\n",
      "Requirement already satisfied: scikit-learn in /Library/Frameworks/Python.framework/Versions/3.11/lib/python3.11/site-packages (1.5.2)\n",
      "Requirement already satisfied: numpy>=1.18.5 in /Library/Frameworks/Python.framework/Versions/3.11/lib/python3.11/site-packages (from adaptkeybert) (1.26.0)\n",
      "Requirement already satisfied: rich>=10.4.0 in /Library/Frameworks/Python.framework/Versions/3.11/lib/python3.11/site-packages (from adaptkeybert) (13.7.0)\n",
      "Requirement already satisfied: filelock in /Library/Frameworks/Python.framework/Versions/3.11/lib/python3.11/site-packages (from datasets) (3.14.0)\n",
      "Requirement already satisfied: pyarrow>=15.0.0 in /Library/Frameworks/Python.framework/Versions/3.11/lib/python3.11/site-packages (from datasets) (16.0.0)\n",
      "Requirement already satisfied: dill<0.3.9,>=0.3.0 in /Library/Frameworks/Python.framework/Versions/3.11/lib/python3.11/site-packages (from datasets) (0.3.8)\n",
      "Requirement already satisfied: requests>=2.32.2 in /Library/Frameworks/Python.framework/Versions/3.11/lib/python3.11/site-packages (from datasets) (2.32.3)\n",
      "Requirement already satisfied: tqdm>=4.66.3 in /Library/Frameworks/Python.framework/Versions/3.11/lib/python3.11/site-packages (from datasets) (4.67.1)\n",
      "Requirement already satisfied: xxhash in /Library/Frameworks/Python.framework/Versions/3.11/lib/python3.11/site-packages (from datasets) (3.5.0)\n",
      "Requirement already satisfied: multiprocess<0.70.17 in /Library/Frameworks/Python.framework/Versions/3.11/lib/python3.11/site-packages (from datasets) (0.70.16)\n",
      "Requirement already satisfied: fsspec<=2024.9.0,>=2023.1.0 in /Library/Frameworks/Python.framework/Versions/3.11/lib/python3.11/site-packages (from fsspec[http]<=2024.9.0,>=2023.1.0->datasets) (2024.3.1)\n",
      "Requirement already satisfied: aiohttp in /Library/Frameworks/Python.framework/Versions/3.11/lib/python3.11/site-packages (from datasets) (3.11.7)\n",
      "Requirement already satisfied: huggingface-hub>=0.23.0 in /Library/Frameworks/Python.framework/Versions/3.11/lib/python3.11/site-packages (from datasets) (0.26.3)\n",
      "Requirement already satisfied: packaging in /Library/Frameworks/Python.framework/Versions/3.11/lib/python3.11/site-packages (from datasets) (23.2)\n",
      "Requirement already satisfied: pyyaml>=5.1 in /Library/Frameworks/Python.framework/Versions/3.11/lib/python3.11/site-packages (from datasets) (6.0.1)\n",
      "Requirement already satisfied: regex!=2019.12.17 in /Library/Frameworks/Python.framework/Versions/3.11/lib/python3.11/site-packages (from transformers) (2024.4.28)\n",
      "Requirement already satisfied: tokenizers<0.22,>=0.21 in /Library/Frameworks/Python.framework/Versions/3.11/lib/python3.11/site-packages (from transformers) (0.21.0)\n",
      "Requirement already satisfied: safetensors>=0.4.1 in /Library/Frameworks/Python.framework/Versions/3.11/lib/python3.11/site-packages (from transformers) (0.4.3)\n",
      "Requirement already satisfied: torch>=1.11.0 in /Library/Frameworks/Python.framework/Versions/3.11/lib/python3.11/site-packages (from sentence-transformers) (2.5.1)\n",
      "Requirement already satisfied: scipy in /Library/Frameworks/Python.framework/Versions/3.11/lib/python3.11/site-packages (from sentence-transformers) (1.11.3)\n",
      "Requirement already satisfied: Pillow in /Library/Frameworks/Python.framework/Versions/3.11/lib/python3.11/site-packages (from sentence-transformers) (10.1.0)\n",
      "Requirement already satisfied: python-dateutil>=2.8.2 in /Library/Frameworks/Python.framework/Versions/3.11/lib/python3.11/site-packages (from pandas) (2.9.0.post0)\n",
      "Requirement already satisfied: pytz>=2020.1 in /Library/Frameworks/Python.framework/Versions/3.11/lib/python3.11/site-packages (from pandas) (2024.2)\n",
      "Requirement already satisfied: tzdata>=2022.7 in /Library/Frameworks/Python.framework/Versions/3.11/lib/python3.11/site-packages (from pandas) (2024.2)\n",
      "Requirement already satisfied: joblib>=1.2.0 in /Library/Frameworks/Python.framework/Versions/3.11/lib/python3.11/site-packages (from scikit-learn) (1.3.2)\n",
      "Requirement already satisfied: threadpoolctl>=3.1.0 in /Library/Frameworks/Python.framework/Versions/3.11/lib/python3.11/site-packages (from scikit-learn) (3.2.0)\n",
      "Requirement already satisfied: aiohappyeyeballs>=2.3.0 in /Library/Frameworks/Python.framework/Versions/3.11/lib/python3.11/site-packages (from aiohttp->datasets) (2.4.3)\n",
      "Requirement already satisfied: aiosignal>=1.1.2 in /Library/Frameworks/Python.framework/Versions/3.11/lib/python3.11/site-packages (from aiohttp->datasets) (1.3.1)\n",
      "Requirement already satisfied: attrs>=17.3.0 in /Library/Frameworks/Python.framework/Versions/3.11/lib/python3.11/site-packages (from aiohttp->datasets) (23.2.0)\n",
      "Requirement already satisfied: frozenlist>=1.1.1 in /Library/Frameworks/Python.framework/Versions/3.11/lib/python3.11/site-packages (from aiohttp->datasets) (1.5.0)\n",
      "Requirement already satisfied: multidict<7.0,>=4.5 in /Library/Frameworks/Python.framework/Versions/3.11/lib/python3.11/site-packages (from aiohttp->datasets) (6.1.0)\n",
      "Requirement already satisfied: propcache>=0.2.0 in /Library/Frameworks/Python.framework/Versions/3.11/lib/python3.11/site-packages (from aiohttp->datasets) (0.2.0)\n",
      "Requirement already satisfied: yarl<2.0,>=1.17.0 in /Library/Frameworks/Python.framework/Versions/3.11/lib/python3.11/site-packages (from aiohttp->datasets) (1.18.0)\n",
      "Requirement already satisfied: typing-extensions>=3.7.4.3 in /Library/Frameworks/Python.framework/Versions/3.11/lib/python3.11/site-packages (from huggingface-hub>=0.23.0->datasets) (4.12.2)\n",
      "Requirement already satisfied: six>=1.5 in /Library/Frameworks/Python.framework/Versions/3.11/lib/python3.11/site-packages (from python-dateutil>=2.8.2->pandas) (1.16.0)\n",
      "Requirement already satisfied: charset-normalizer<4,>=2 in /Library/Frameworks/Python.framework/Versions/3.11/lib/python3.11/site-packages (from requests>=2.32.2->datasets) (3.3.0)\n",
      "Requirement already satisfied: idna<4,>=2.5 in /Library/Frameworks/Python.framework/Versions/3.11/lib/python3.11/site-packages (from requests>=2.32.2->datasets) (2.10)\n",
      "Requirement already satisfied: urllib3<3,>=1.21.1 in /Library/Frameworks/Python.framework/Versions/3.11/lib/python3.11/site-packages (from requests>=2.32.2->datasets) (1.26.20)\n",
      "Requirement already satisfied: certifi>=2017.4.17 in /Library/Frameworks/Python.framework/Versions/3.11/lib/python3.11/site-packages (from requests>=2.32.2->datasets) (2024.2.2)\n",
      "Requirement already satisfied: markdown-it-py>=2.2.0 in /Library/Frameworks/Python.framework/Versions/3.11/lib/python3.11/site-packages (from rich>=10.4.0->adaptkeybert) (3.0.0)\n",
      "Requirement already satisfied: pygments<3.0.0,>=2.13.0 in /Library/Frameworks/Python.framework/Versions/3.11/lib/python3.11/site-packages (from rich>=10.4.0->adaptkeybert) (2.16.1)\n",
      "Requirement already satisfied: networkx in /Library/Frameworks/Python.framework/Versions/3.11/lib/python3.11/site-packages (from torch>=1.11.0->sentence-transformers) (3.2.1)\n",
      "Requirement already satisfied: jinja2 in /Library/Frameworks/Python.framework/Versions/3.11/lib/python3.11/site-packages (from torch>=1.11.0->sentence-transformers) (3.1.2)\n",
      "Requirement already satisfied: sympy==1.13.1 in /Library/Frameworks/Python.framework/Versions/3.11/lib/python3.11/site-packages (from torch>=1.11.0->sentence-transformers) (1.13.1)\n",
      "Requirement already satisfied: mpmath<1.4,>=1.1.0 in /Library/Frameworks/Python.framework/Versions/3.11/lib/python3.11/site-packages (from sympy==1.13.1->torch>=1.11.0->sentence-transformers) (1.3.0)\n",
      "Requirement already satisfied: mdurl~=0.1 in /Library/Frameworks/Python.framework/Versions/3.11/lib/python3.11/site-packages (from markdown-it-py>=2.2.0->rich>=10.4.0->adaptkeybert) (0.1.2)\n",
      "Requirement already satisfied: MarkupSafe>=2.0 in /Library/Frameworks/Python.framework/Versions/3.11/lib/python3.11/site-packages (from jinja2->torch>=1.11.0->sentence-transformers) (2.1.3)\n"
     ]
    }
   ],
   "source": [
    "!pip install adaptkeybert datasets transformers sentence-transformers pandas keybert scikit-learn"
   ]
  },
  {
   "cell_type": "code",
   "execution_count": 679,
   "metadata": {},
   "outputs": [],
   "source": [
    "from transformers import pipeline, BertForSequenceClassification, BertTokenizer\n",
    "from sentence_transformers import SentenceTransformer\n",
    "from adaptkeybert import KeyBERT\n",
    "from sklearn.metrics.pairwise import cosine_similarity\n",
    "import pandas as pd"
   ]
  },
  {
   "cell_type": "code",
   "execution_count": 680,
   "metadata": {},
   "outputs": [],
   "source": [
    "df_evaluation = pd.read_csv(\"evaluation_sentences.csv\")"
   ]
  },
  {
   "cell_type": "code",
   "execution_count": 681,
   "metadata": {},
   "outputs": [],
   "source": [
    "# Version 3.0 (Based on unsupervised list of LLaMA)\n",
    "\n",
    "\n",
    "\n",
    "keywords_dict = {\n",
    "    \"Financial Performance\": {\n",
    "        \"Earnings per Share\": [\"performance indicators\",\"Earnings per Share expectations\",\"price-to-earnings ratio\"],\n",
    "        \"Cash Flow\":[\"free cash flow\",\"liquidity\",\"working capital\",\"cash reserves\",\"FCF\"],\n",
    "        \"Revenue\": [\"operational revenue\", \"business income\", \"operating profit\",\"increased income\",\"sales growth rate\",\"earnings trajectory\"],\n",
    "        \"Return on Equity\": [\"capital efficiency\", \"investment return\", \"capital ROI\",\"ROE\"],\n",
    "        \"Margins\": [\"EBITDA margins\", \"operating margin\", \"profit margin\", \"cost-to-revenue\", \"gross profit\",\"profitability changes\"],\n",
    "        \"Cost Management\": [\"expense control\", \"cost reduction\", \"efficiency savings\",\"expense trimming\", \"cost containment\",\"cost optimization\",\"cost-effectiveness\"],\n",
    "        \"Dividend Policy\": [\"dividend payout\", \"shareholder returns\", \"yield\", \"dividend sustainability\", \"payout ratio\"],\n",
    "        \"Investments\": [\"strategic investment\", \"capital deployment\", \"fundraising\", \"fund allocation\",\"capex\"],\n",
    "        \"Balance Sheet\": [\"assets\", \"liabilities\", \"equity\", \"debt management\", \"financial health\",\"book value\",\"debt-to-equity ratio\",\"equity issuance\",\"capital structure\"],\n",
    "    },\n",
    "    \"Company\": {\n",
    "        \"Long-term Growth\": [\"sustainable growth\", \"long-term trajectory\", \"future growth\",\"scalability\", \"large-scale expansion\",\"unit expansion\",\"unit volume\"],\n",
    "        \"Mergers and Acquisition\": [\"business acquisition\", \"M&A activity\", \"buyout approach\",\"merger\"],\n",
    "        \"Refranchising\": [\"franchise model\", \"franchise transitions\", \"refranchising plans\"],\n",
    "        \"Sustainability\": [\"green initiatives\", \"environmental impact\", \"sustainable practices\",\"ESG\",\"SRI\",\"sustainability\",\"green energy adoption\",\"social responsibility\"],\n",
    "        \"Employees\": [\"workforce optimization\",\"talent management\",\"upskilling\",\"remote work\",\"employee management\",\"employee benefits\",\"diversity and inclusion\",\"salary levels\"],\n",
    "        \"Research and Development\":[\"R&D spending\",\"patent activity\",\"technological breakthrough\",\"future of work\",\"continuous development\",\"research projects\"],\n",
    "        \"Marketing\":[\"brand awareness\",\"CI\",\"corporate identity\",\"performance marketing\",\"brand loyalty\",\"word-of-mouth\",\"brand value\",\"consumer perception\"],\n",
    "        \"Shares Repurchase\": [\"buyback\", \"repurchase programs\", \"shareholder value\", \"equity reduction\", \"stock repurchases\",\"stock rebuy\"],\n",
    "        \"Processes\":[\"process improvements\",\"streamlined processes\",\"productivity improvements\",\"operational efficiency\"],\n",
    "        \"Leadership\":[\"effective leadership\", \"executive strength\", \"executive resilience\",\"management trust\",\"crisis management\",\"risk assessment\",\"contingency planning\"],\n",
    "    },\n",
    "    \"Product\": {\n",
    "        \"Innovation\": [\"new features\", \"innovative products\", \"product advancements\",\"new product\",\"product launch\",\"disruptive technology\",\"portfolio diversification\"],\n",
    "        \"Product Characteristics\":[\"USP\",\"unique selling point\",\"product quality\", \"product differentiation\",\"product portfolio\"],\n",
    "        \"Pricing Strategy\":[\"price segmentation\",\"price optimization\", \"dynamic pricing\", \"competitive pricing\",\"pricing models\", \"price elasticity\", \"discount strategies\"],\n",
    "        \"Production\": [\"production capacities\",\"manufacturing delays\", \"supply issues\",\"production stops\",\"factory problems\",\"logistics bottlenecks\",\"material shortage\"],\n",
    "        \"Technology Trends\":[\"autonomous systems\",\"IoT (Internet of Things)\", \"machine learning\",\"deep learning\",\"natural language processing\",\"AI\",\"robotics\",\"digital transformation\",\"cloud computing\",\"blockchain\"]\n",
    "    },\n",
    "    \"Market\": {\n",
    "        \"Market Share\": [\"market share\", \"industry share\", \"market proportion\",\"market penetration\"],\n",
    "        \"Market Expansion\": [\"new markets\", \"geographical reach\", \"market entry\",\"worldwide expansion\"],\n",
    "        \"Competitors\":[\"market rivalry\", \"competitive threats\", \"industry competition\", \"competitive advantage\"],\n",
    "        \"Global Presence\": [\"international footprint\", \"global operations\", \"worldwide coverage\"],\n",
    "        \"Industry Outlook\":[\"sector growth\",\"market trends\",\"market evolution\",\"industry trends\"],\n",
    "\t\t\"Regulations\":[\"tax regulations\",\"regulatory risks\",\"governmental influence\",\"government incentives\", \"state funding\", \"subsidies\",\"political influence\",\"legal disputes\"],\n",
    "        \"Partnerships and Collaborations\":[\"strategic alliances\",\"partner relationships\",\"joint venture\"],\n",
    "        \"Supply Chain\":[\"logistics optimization\", \"supply logistics\", \"supply chain strategies\",\"supply constraints\",\"inventory challenges\",\"distribution channels\", \"supplier relationships\",\"procurement\"],\n",
    "        \"Economic Conditions\": [\"economic environment\", \"market economy\", \"macroeconomic factors\",\"recession\",\"expansion\",\"inflationary impact\",\"interest rate environment\",\"foreign exchange impact\"],\n",
    "        \"Demand\":[\"increasing demand\",\"decreasing demand\",\"demand forecasting\",\"consumer visits\",\"store traffic\"],\n",
    "        \"Customers\": [\"user interaction\", \"customer retention\",\"customer loyalty\",\"frequent buyer\",\"user satisfaction\",\"customer lifetime value (CLV)\",\"per-visit spending\",\"churn rate\"]\n",
    "    }\n",
    "}"
   ]
  },
  {
   "cell_type": "code",
   "execution_count": 682,
   "metadata": {},
   "outputs": [
    {
     "name": "stderr",
     "output_type": "stream",
     "text": [
      "Python(53110) MallocStackLogging: can't turn off malloc stack logging because it was not enabled.\n",
      "huggingface/tokenizers: The current process just got forked, after parallelism has already been used. Disabling parallelism to avoid deadlocks...\n",
      "To disable this warning, you can either:\n",
      "\t- Avoid using `tokenizers` before the fork if possible\n",
      "\t- Explicitly set the environment variable TOKENIZERS_PARALLELISM=(true | false)\n",
      "Device set to use mps:0\n"
     ]
    }
   ],
   "source": [
    "# Initialize KeyBERT and SentenceTransformer\n",
    "kw_model = KeyBERT()\n",
    "sentence_transformer = SentenceTransformer('all-MiniLM-L6-v2')\n",
    "\n",
    "# Initialize FinancialBERT for sentiment analysis\n",
    "sentiment_model = BertForSequenceClassification.from_pretrained(\"ahmedrachid/FinancialBERT-Sentiment-Analysis\", num_labels=3)\n",
    "tokenizer = BertTokenizer.from_pretrained(\"ahmedrachid/FinancialBERT-Sentiment-Analysis\")\n",
    "financial_bert_sentiment = pipeline(\"sentiment-analysis\", model=sentiment_model, tokenizer=tokenizer)\n",
    "\n",
    "# Flatten the keywords into a single list for zero-shot KeyBERT\n",
    "seed_words = [\n",
    "    keyword\n",
    "    for category, arguments in keywords_dict.items()\n",
    "    for argument, keywords in arguments.items()\n",
    "    for keyword in keywords\n",
    "]\n",
    "\n",
    "# Precompute embeddings for each argument's seed_words\n",
    "precomputed_seed_embeddings = {\n",
    "    argument: sentence_transformer.encode(seed_words)\n",
    "    for category, arguments in keywords_dict.items()\n",
    "    for argument, seed_words in arguments.items()\n",
    "}"
   ]
  },
  {
   "cell_type": "code",
   "execution_count": 683,
   "metadata": {},
   "outputs": [
    {
     "data": {
      "text/plain": [
       "\"from sklearn.feature_extraction.text import CountVectorizer\\n\\ndef truncate_text(text, ngram_range=(1, 1), stop_words='english'):\\n    vectorizer = CountVectorizer(\\n        ngram_range=ngram_range,\\n        stop_words=stop_words  # Optional stop word removal\\n    )\\n    \\n    # Fit the vectorizer to the text\\n    vectorizer.fit([text])\\n    \\n    # Get the tokenized words or phrases\\n    tokens = vectorizer.get_feature_names_out()\\n    \\n    return tokens\""
      ]
     },
     "execution_count": 683,
     "metadata": {},
     "output_type": "execute_result"
    }
   ],
   "source": [
    "from transformers import AutoTokenizer\n",
    "\n",
    "# Load the tokenizer for your model\n",
    "tokenizer = AutoTokenizer.from_pretrained(\"bert-base-uncased\")\n",
    "\n",
    "def truncate_text(text, max_length=512):\n",
    "    encoded = tokenizer.encode(text, truncation=True, max_length=max_length, add_special_tokens=True)\n",
    "    return tokenizer.decode(encoded, skip_special_tokens=True)\n",
    "\n",
    "\n",
    "\"\"\"from sklearn.feature_extraction.text import CountVectorizer\n",
    "\n",
    "def truncate_text(text, ngram_range=(1, 1), stop_words='english'):\n",
    "    vectorizer = CountVectorizer(\n",
    "        ngram_range=ngram_range,\n",
    "        stop_words=stop_words  # Optional stop word removal\n",
    "    )\n",
    "    \n",
    "    # Fit the vectorizer to the text\n",
    "    vectorizer.fit([text])\n",
    "    \n",
    "    # Get the tokenized words or phrases\n",
    "    tokens = vectorizer.get_feature_names_out()\n",
    "    \n",
    "    return tokens\"\"\""
   ]
  },
  {
   "cell_type": "code",
   "execution_count": 684,
   "metadata": {},
   "outputs": [
    {
     "data": {
      "text/plain": [
       "'kw_model.zeroshot_pre_train(\\n    domain_words=seed_words,\\n    adaptive_thr=0.25,\\n    minimal_similarity_zeroshot=0.65\\n)'"
      ]
     },
     "execution_count": 684,
     "metadata": {},
     "output_type": "execute_result"
    }
   ],
   "source": [
    "\"\"\"kw_model.zeroshot_pre_train(\n",
    "    domain_words=seed_words,\n",
    "    adaptive_thr=0.25,\n",
    "    minimal_similarity_zeroshot=0.65\n",
    ")\"\"\""
   ]
  },
  {
   "cell_type": "code",
   "execution_count": 685,
   "metadata": {},
   "outputs": [
    {
     "name": "stdout",
     "output_type": "stream",
     "text": [
      "['i', 'me', 'my', 'myself', 'we', 'our', 'ours', 'ourselves', 'you', \"you're\", \"you've\", \"you'll\", \"you'd\", 'your', 'yours', 'yourself', 'yourselves', 'he', 'him', 'his', 'himself', 'she', \"she's\", 'her', 'hers', 'herself', 'it', \"it's\", 'its', 'itself', 'they', 'them', 'their', 'theirs', 'themselves', 'what', 'which', 'who', 'whom', 'this', 'that', \"that'll\", 'these', 'those', 'am', 'is', 'are', 'was', 'were', 'be', 'been', 'being', 'have', 'has', 'had', 'having', 'do', 'does', 'did', 'doing', 'a', 'an', 'the', 'and', 'but', 'if', 'or', 'because', 'as', 'until', 'while', 'of', 'at', 'by', 'for', 'with', 'about', 'against', 'between', 'into', 'through', 'during', 'before', 'after', 'above', 'below', 'to', 'from', 'up', 'down', 'in', 'out', 'on', 'off', 'over', 'under', 'again', 'further', 'then', 'once', 'here', 'there', 'when', 'where', 'why', 'how', 'all', 'any', 'both', 'each', 'few', 'more', 'most', 'other', 'some', 'such', 'no', 'nor', 'not', 'only', 'own', 'same', 'so', 'than', 'too', 'very', 's', 't', 'can', 'will', 'just', 'don', \"don't\", 'should', \"should've\", 'now', 'd', 'll', 'm', 'o', 're', 've', 'y', 'ain', 'aren', \"aren't\", 'couldn', \"couldn't\", 'didn', \"didn't\", 'doesn', \"doesn't\", 'hadn', \"hadn't\", 'hasn', \"hasn't\", 'haven', \"haven't\", 'isn', \"isn't\", 'ma', 'mightn', \"mightn't\", 'mustn', \"mustn't\", 'needn', \"needn't\", 'shan', \"shan't\", 'shouldn', \"shouldn't\", 'wasn', \"wasn't\", 'weren', \"weren't\", 'won', \"won't\", 'wouldn', \"wouldn't\"]\n"
     ]
    },
    {
     "name": "stderr",
     "output_type": "stream",
     "text": [
      "[nltk_data] Downloading package stopwords to\n",
      "[nltk_data]     /Users/oskarroeske/nltk_data...\n",
      "[nltk_data]   Package stopwords is already up-to-date!\n"
     ]
    }
   ],
   "source": [
    "from nltk.corpus import stopwords\n",
    "from gensim.parsing.preprocessing import STOPWORDS\n",
    "import nltk\n",
    "\n",
    "nltk.download('stopwords')\n",
    "\n",
    "# Get the English stop words list\n",
    "nltk_stopwords = stopwords.words('english')\n",
    "\n",
    "# Print or use the stop words\n",
    "print(nltk_stopwords)\n",
    "\n",
    "# Convert the Gensim STOPWORDS set to a list (if needed)\n",
    "gensim_stopwords = list(STOPWORDS)\n"
   ]
  },
  {
   "cell_type": "code",
   "execution_count": null,
   "metadata": {},
   "outputs": [],
   "source": [
    "# Define the classification and analysis function\n",
    "def classify_and_analyze(sentence, kw_model, keywords_dict, precomputed_seed_embeddings,seed_words, threshold=0.3):\n",
    "    # Extract keywords with KeyBERT\n",
    "    keywords = kw_model.extract_keywords(sentence, seed_keywords=seed_words,top_n=3,keyphrase_ngram_range=(1,2))\n",
    "    extracted_keywords = [kw[0] for kw in keywords]\n",
    "\n",
    "    current_max_score = 07\n",
    "    selected_category = \"\"\n",
    "\n",
    "    for category, arguments in keywords_dict.items():\n",
    "        for argument, seed_words in arguments.items():\n",
    "            # Use precomputed embeddings for the argument\n",
    "            seed_embeddings = precomputed_seed_embeddings[argument]\n",
    "\n",
    "            if len(extracted_keywords) == 0:\n",
    "                continue  # Skip to the next category if no keywords are extracted\n",
    "\n",
    "            keyword_embeddings = sentence_transformer.encode(extracted_keywords)\n",
    "            if keyword_embeddings.shape[0] == 0 or seed_embeddings.shape[0] == 0:\n",
    "                continue  # Skip computation if embeddings are empty\n",
    "\n",
    "            if keyword_embeddings.shape[1] != seed_embeddings.shape[1]:\n",
    "                print(f\"Dimension mismatch: {keyword_embeddings.shape} vs {seed_embeddings.shape}\")\n",
    "                continue  # Skip incompatible embeddings\n",
    "\n",
    "            # Compute cosine similarities\n",
    "            similarities = cosine_similarity(keyword_embeddings, seed_embeddings)\n",
    "            max_similarity = similarities.max() if similarities.size > 0 else 0\n",
    "            if max_similarity >= threshold:\n",
    "                if max_similarity > current_max_score:\n",
    "                    current_max_score = max_similarity\n",
    "                    selected_category = argument\n",
    "    \n",
    "    return selected_category\n",
    "\n",
    "\n",
    "def truncate_text(text, max_length=512):\n",
    "    encoded = tokenizer.encode(text, truncation=True, max_length=max_length, add_special_tokens=True)\n",
    "    return tokenizer.decode(encoded, skip_special_tokens=True)\n",
    "\n",
    "# Truncate sentence before passing it to the model\n",
    "for idx, row in df_evaluation.iterrows():\n",
    "    sentence = truncate_text(row['Sentence'], max_length=512)\n",
    "    categories = classify_and_analyze(\n",
    "        sentence, kw_model, keywords_dict, precomputed_seed_embeddings, seed_words\n",
    "    )\n",
    "    # Use FinancialBERT to classify sentiment\n",
    "    sentiment_result = financial_bert_sentiment(sentence)[0]\n",
    "    sentiment = sentiment_result['label']\n",
    "    df_evaluation.at[idx, 'predicted_argument'] = categories\n",
    "    df_evaluation.at[idx, 'predicted_sentiment'] = sentiment"
   ]
  },
  {
   "cell_type": "markdown",
   "metadata": {},
   "source": [
    "# Argument Level"
   ]
  },
  {
   "cell_type": "code",
   "execution_count": 687,
   "metadata": {},
   "outputs": [
    {
     "name": "stdout",
     "output_type": "stream",
     "text": [
      "True Positives (TP): 37\n",
      "False Positives (FP): 85\n",
      "False Positives 2 (FP): 26\n",
      "False Negatives (FN): 2\n",
      "True Negatives (TN): 0\n",
      "Precision: 0.25\n",
      "Recall: 0.9487179487179487\n",
      "F1 Score: 0.3957219251336898\n"
     ]
    }
   ],
   "source": [
    "# Initialize counts\n",
    "TP = 0  # True Positive\n",
    "FP = 0  # False Positive\n",
    "FN = 0  # False Negative\n",
    "TN = 0  # True Negative\n",
    "FP2 = 0 #False Postive 2\n",
    "\n",
    "# Evaluate each row\n",
    "for index, row in df_evaluation.iterrows():\n",
    "    actual, predicted = row[\"Label\"], row[\"predicted_argument\"]\n",
    "    if actual == predicted and not pd.isna(actual):\n",
    "        TP += 1  # Correct argument assigned\n",
    "    elif pd.isna(actual) and predicted == \"\":\n",
    "        TN += 1  #no actual argument and none assigned\n",
    "    elif not pd.isna(actual) and predicted == \"\":\n",
    "        FN += 1  # No argument was assigned\n",
    "    elif actual != predicted and pd.isna(actual):\n",
    "        FP2 += 1  # Argument assigned when no should be\n",
    "    elif actual != predicted:\n",
    "        FP += 1  # Wrong argument assigned\n",
    "\n",
    "# Print counts\n",
    "print(f\"True Positives (TP): {TP}\")\n",
    "print(f\"False Positives (FP): {FP}\")\n",
    "print(f\"False Positives 2 (FP): {FP2}\")\n",
    "print(f\"False Negatives (FN): {FN}\")\n",
    "print(f\"True Negatives (TN): {TN}\")\n",
    "\n",
    "FP = FP + FP2\n",
    "\n",
    "# Calculate precision, recall, and F1 score\n",
    "precision = TP / (TP + FP) if (TP + FP) > 0 else 0\n",
    "recall = TP / (TP + FN) if (TP + FN) > 0 else 0\n",
    "f1 = 2 * (precision * recall) / (precision + recall) if (precision + recall) > 0 else 0\n",
    "\n",
    "print(f\"Precision: {precision}\")\n",
    "print(f\"Recall: {recall}\")\n",
    "print(f\"F1 Score: {f1}\")"
   ]
  },
  {
   "cell_type": "code",
   "execution_count": 688,
   "metadata": {},
   "outputs": [
    {
     "data": {
      "image/png": "[encoded data removed]",
      "text/plain": [
       "<Figure size 800x600 with 2 Axes>"
      ]
     },
     "metadata": {},
     "output_type": "display_data"
    }
   ],
   "source": [
    "import matplotlib.pyplot as plt\n",
    "import seaborn as sns  # optional for better heatmap visuals\n",
    "\n",
    "# Data for the confusion matrix\n",
    "confusion_data = {\n",
    "    \"Assigned Argument\": [TP, FP],  # Predicted Argument Assigned\n",
    "    \"Assigned None\": [FN, TN]       # Predicted None\n",
    "}\n",
    "\n",
    "confusion_matrix = pd.DataFrame(\n",
    "    confusion_data, \n",
    "    index=[\"Actual Argument\", \"No Argument\"]\n",
    ")\n",
    "\n",
    "# Create a heatmap\n",
    "plt.figure(figsize=(8, 6))\n",
    "sns.heatmap(confusion_matrix, annot=True, fmt=\"d\", cmap=\"Blues\")\n",
    "\n",
    "# Add labels and title\n",
    "plt.title(\"Confusion Matrix\")\n",
    "plt.xlabel(\"Predicted\")\n",
    "plt.ylabel(\"Actual\")\n",
    "plt.show()\n"
   ]
  },
  {
   "cell_type": "markdown",
   "metadata": {},
   "source": [
    "# Category Level"
   ]
  },
  {
   "cell_type": "code",
   "execution_count": 689,
   "metadata": {},
   "outputs": [],
   "source": [
    "# Create list for overall categories\n",
    "\n",
    "# Step 1: Build reverse mapping\n",
    "reverse_mapping = {}\n",
    "for overall_category, subcategories in keywords_dict.items():\n",
    "    for subcategory in subcategories:\n",
    "        reverse_mapping[subcategory] = overall_category\n",
    "# Step 2: Define lookup function\n",
    "def get_overall_category(subcategory):\n",
    "    return reverse_mapping.get(subcategory, \"Unknown Category\")\n",
    "\n",
    "\n",
    "df_evaluation[\"actual_category\"] = df_evaluation[\"Label\"].apply(get_overall_category)\n",
    "df_evaluation[\"predicted_category\"] = df_evaluation[\"predicted_argument\"].apply(get_overall_category)\n"
   ]
  },
  {
   "cell_type": "code",
   "execution_count": 690,
   "metadata": {},
   "outputs": [
    {
     "name": "stdout",
     "output_type": "stream",
     "text": [
      "True Positives (TP): 67\n",
      "False Positives (FP): 55\n",
      "False Positives 2 (FP): 26\n",
      "False Negatives (FN): 1\n",
      "True Negatives (TN): 1\n",
      "Precision_category: 0.4527027027027027\n",
      "Recall_category: 0.9852941176470589\n",
      "F1_category Score: 0.6203703703703703\n"
     ]
    }
   ],
   "source": [
    "# Initialize counts\n",
    "TP_category = 0  # True Positive\n",
    "FP_category = 0  # False Positive\n",
    "FP_category2 = 0  # False Positive\n",
    "FN_category = 0  # False Negative\n",
    "TN_category = 0  # True Negative\n",
    "\n",
    "# Evaluate each row\n",
    "for index, row in df_evaluation.iterrows():\n",
    "    actual_category, predicted_category = row[\"actual_category\"], row[\"predicted_category\"]\n",
    "    if actual_category == predicted_category and actual_category != \"Unknown Category\":\n",
    "        TP_category += 1  # Correct argument assigned\n",
    "    elif actual_category == \"Unknown Category\" and predicted_category == \"Unknown Category\":\n",
    "        TN_category += 1  # No cateogry was given and none was predicted\n",
    "    elif actual_category != \"Unknown Category\" and predicted_category == \"Unknown Category\":\n",
    "        FN_category += 1  # No argument was assigned\n",
    "    elif actual_category != predicted_category and actual_category == \"Unknown Category\":\n",
    "        FP_category2 += 1  # Argument assigned when no should be\n",
    "    elif actual_category != predicted_category:\n",
    "        FP_category += 1  # Wrong argument assigned\n",
    "\n",
    "# Print counts\n",
    "print(f\"True Positives (TP): {TP_category}\")\n",
    "print(f\"False Positives (FP): {FP_category}\")\n",
    "print(f\"False Positives 2 (FP): {FP_category2}\")\n",
    "print(f\"False Negatives (FN): {FN_category}\")\n",
    "print(f\"True Negatives (TN): {TN_category}\")\n",
    "\n",
    "FP_category = FP_category + FP_category2\n",
    "\n",
    "# Calculate precision_category, recall_category, and F1_category score\n",
    "precision_category = TP_category / (TP_category + FP_category) if (TP_category + FP_category) > 0 else 0\n",
    "recall_category = TP_category / (TP_category + FN_category) if (TP_category + FN_category) > 0 else 0\n",
    "f1_category = 2 * (precision_category * recall_category) / (precision_category + recall_category) if (precision_category + recall_category) > 0 else 0\n",
    "\n",
    "print(f\"Precision_category: {precision_category}\")\n",
    "print(f\"Recall_category: {recall_category}\")\n",
    "print(f\"F1_category Score: {f1_category}\")\n"
   ]
  },
  {
   "cell_type": "code",
   "execution_count": 691,
   "metadata": {},
   "outputs": [
    {
     "data": {
      "image/png": "[encoded data removed]",
      "text/plain": [
       "<Figure size 800x600 with 2 Axes>"
      ]
     },
     "metadata": {},
     "output_type": "display_data"
    }
   ],
   "source": [
    "import matplotlib.pyplot as plt\n",
    "import seaborn as sns\n",
    "import pandas as pd\n",
    "\n",
    "# Confusion matrix data\n",
    "confusion_data_category = {\n",
    "    \"Category\": [TP_category, FP_category],\n",
    "    \"No/Other Category\": [FN_category, TN_category]    \n",
    "}\n",
    "\n",
    "# Create a DataFrame for the confusion matrix\n",
    "confusion_matrix_category = pd.DataFrame(\n",
    "    confusion_data_category, \n",
    "    index=[\"Category\", \"Different Category\"]  # Row labels\n",
    ")\n",
    "\n",
    "# Plot the confusion matrix as a heatmap\n",
    "plt.figure(figsize=(8, 6))\n",
    "sns.heatmap(confusion_matrix_category, annot=True, fmt=\"d\", cmap=\"Blues\")\n",
    "\n",
    "# Add labels and title\n",
    "plt.title(\"Confusion Matrix for Categories\")\n",
    "plt.xlabel(\"Predicted\")\n",
    "plt.ylabel(\"Actual\")\n",
    "plt.show()"
   ]
  },
  {
   "cell_type": "markdown",
   "metadata": {},
   "source": [
    "# FinancialBERT "
   ]
  },
  {
   "cell_type": "code",
   "execution_count": 692,
   "metadata": {},
   "outputs": [
    {
     "data": {
      "text/html": [
       "<div>\n",
       "<style scoped>\n",
       "    .dataframe tbody tr th:only-of-type {\n",
       "        vertical-align: middle;\n",
       "    }\n",
       "\n",
       "    .dataframe tbody tr th {\n",
       "        vertical-align: top;\n",
       "    }\n",
       "\n",
       "    .dataframe thead th {\n",
       "        text-align: right;\n",
       "    }\n",
       "</style>\n",
       "<table border=\"1\" class=\"dataframe\">\n",
       "  <thead>\n",
       "    <tr style=\"text-align: right;\">\n",
       "      <th></th>\n",
       "      <th>Sentence</th>\n",
       "      <th>Label</th>\n",
       "      <th>Sentiment</th>\n",
       "      <th>predicted_argument</th>\n",
       "      <th>predicted_sentiment</th>\n",
       "      <th>actual_category</th>\n",
       "      <th>predicted_category</th>\n",
       "    </tr>\n",
       "  </thead>\n",
       "  <tbody>\n",
       "    <tr>\n",
       "      <th>0</th>\n",
       "      <td>Facebook is the worlds largest social networki...</td>\n",
       "      <td>Global Presence</td>\n",
       "      <td>positive</td>\n",
       "      <td>Customers</td>\n",
       "      <td>neutral</td>\n",
       "      <td>Market</td>\n",
       "      <td>Market</td>\n",
       "    </tr>\n",
       "    <tr>\n",
       "      <th>1</th>\n",
       "      <td>Facebook does not charge users of its social n...</td>\n",
       "      <td>Pricing Strategy</td>\n",
       "      <td>neutral</td>\n",
       "      <td>Margins</td>\n",
       "      <td>neutral</td>\n",
       "      <td>Product</td>\n",
       "      <td>Financial Performance</td>\n",
       "    </tr>\n",
       "    <tr>\n",
       "      <th>2</th>\n",
       "      <td>Facebook is headquartered in Menlo Park, Calif...</td>\n",
       "      <td>NaN</td>\n",
       "      <td>neutral</td>\n",
       "      <td>Balance Sheet</td>\n",
       "      <td>neutral</td>\n",
       "      <td>Unknown Category</td>\n",
       "      <td>Financial Performance</td>\n",
       "    </tr>\n",
       "    <tr>\n",
       "      <th>3</th>\n",
       "      <td>This is important for Microsoft because Facebo...</td>\n",
       "      <td>Product Characteristics</td>\n",
       "      <td>neutral</td>\n",
       "      <td>Cash Flow</td>\n",
       "      <td>neutral</td>\n",
       "      <td>Product</td>\n",
       "      <td>Financial Performance</td>\n",
       "    </tr>\n",
       "    <tr>\n",
       "      <th>4</th>\n",
       "      <td>Most Popular Development Environments download...</td>\n",
       "      <td>Partnerships and Collaborations</td>\n",
       "      <td>positive</td>\n",
       "      <td>Employees</td>\n",
       "      <td>neutral</td>\n",
       "      <td>Market</td>\n",
       "      <td>Company</td>\n",
       "    </tr>\n",
       "    <tr>\n",
       "      <th>...</th>\n",
       "      <td>...</td>\n",
       "      <td>...</td>\n",
       "      <td>...</td>\n",
       "      <td>...</td>\n",
       "      <td>...</td>\n",
       "      <td>...</td>\n",
       "      <td>...</td>\n",
       "    </tr>\n",
       "    <tr>\n",
       "      <th>145</th>\n",
       "      <td>Samsungs top-end smartphoneshave contributed a...</td>\n",
       "      <td>Competitors</td>\n",
       "      <td>neutral</td>\n",
       "      <td>Product Characteristics</td>\n",
       "      <td>negative</td>\n",
       "      <td>Market</td>\n",
       "      <td>Product</td>\n",
       "    </tr>\n",
       "    <tr>\n",
       "      <th>146</th>\n",
       "      <td>As shown in Figure 79, Samsungs top-end smartp...</td>\n",
       "      <td>Revenue</td>\n",
       "      <td>positive</td>\n",
       "      <td>Margins</td>\n",
       "      <td>neutral</td>\n",
       "      <td>Financial Performance</td>\n",
       "      <td>Financial Performance</td>\n",
       "    </tr>\n",
       "    <tr>\n",
       "      <th>147</th>\n",
       "      <td>In our opinion, this emotional connection, com...</td>\n",
       "      <td>Product Characteristics</td>\n",
       "      <td>positive</td>\n",
       "      <td>Innovation</td>\n",
       "      <td>positive</td>\n",
       "      <td>Product</td>\n",
       "      <td>Product</td>\n",
       "    </tr>\n",
       "    <tr>\n",
       "      <th>148</th>\n",
       "      <td>We believe these factors, combined with the co...</td>\n",
       "      <td>Balance Sheet</td>\n",
       "      <td>positive</td>\n",
       "      <td>Market Share</td>\n",
       "      <td>positive</td>\n",
       "      <td>Financial Performance</td>\n",
       "      <td>Market</td>\n",
       "    </tr>\n",
       "    <tr>\n",
       "      <th>149</th>\n",
       "      <td>Seasonality: Weather conditions can impact dem...</td>\n",
       "      <td>Demand</td>\n",
       "      <td>neutral</td>\n",
       "      <td>Demand</td>\n",
       "      <td>neutral</td>\n",
       "      <td>Market</td>\n",
       "      <td>Market</td>\n",
       "    </tr>\n",
       "  </tbody>\n",
       "</table>\n",
       "<p>150 rows × 7 columns</p>\n",
       "</div>"
      ],
      "text/plain": [
       "                                              Sentence  \\\n",
       "0    Facebook is the worlds largest social networki...   \n",
       "1    Facebook does not charge users of its social n...   \n",
       "2    Facebook is headquartered in Menlo Park, Calif...   \n",
       "3    This is important for Microsoft because Facebo...   \n",
       "4    Most Popular Development Environments download...   \n",
       "..                                                 ...   \n",
       "145  Samsungs top-end smartphoneshave contributed a...   \n",
       "146  As shown in Figure 79, Samsungs top-end smartp...   \n",
       "147  In our opinion, this emotional connection, com...   \n",
       "148  We believe these factors, combined with the co...   \n",
       "149  Seasonality: Weather conditions can impact dem...   \n",
       "\n",
       "                               Label Sentiment       predicted_argument  \\\n",
       "0                    Global Presence  positive                Customers   \n",
       "1                   Pricing Strategy   neutral                  Margins   \n",
       "2                                NaN   neutral            Balance Sheet   \n",
       "3            Product Characteristics   neutral                Cash Flow   \n",
       "4    Partnerships and Collaborations  positive                Employees   \n",
       "..                               ...       ...                      ...   \n",
       "145                      Competitors   neutral  Product Characteristics   \n",
       "146                          Revenue  positive                  Margins   \n",
       "147          Product Characteristics  positive               Innovation   \n",
       "148                    Balance Sheet  positive             Market Share   \n",
       "149                           Demand   neutral                   Demand   \n",
       "\n",
       "    predicted_sentiment        actual_category     predicted_category  \n",
       "0               neutral                 Market                 Market  \n",
       "1               neutral                Product  Financial Performance  \n",
       "2               neutral       Unknown Category  Financial Performance  \n",
       "3               neutral                Product  Financial Performance  \n",
       "4               neutral                 Market                Company  \n",
       "..                  ...                    ...                    ...  \n",
       "145            negative                 Market                Product  \n",
       "146             neutral  Financial Performance  Financial Performance  \n",
       "147            positive                Product                Product  \n",
       "148            positive  Financial Performance                 Market  \n",
       "149             neutral                 Market                 Market  \n",
       "\n",
       "[150 rows x 7 columns]"
      ]
     },
     "execution_count": 692,
     "metadata": {},
     "output_type": "execute_result"
    }
   ],
   "source": [
    "df_evaluation"
   ]
  },
  {
   "cell_type": "code",
   "execution_count": 693,
   "metadata": {},
   "outputs": [
    {
     "name": "stdout",
     "output_type": "stream",
     "text": [
      "TP_sentiment: 95\n",
      "FP_sentiment: 55\n",
      "accuracy_sentiment: 0.6333333333333333\n"
     ]
    }
   ],
   "source": [
    "TP_sentiment = 0\n",
    "FP_sentiment = 0\n",
    "\n",
    "# Evaluate each row\n",
    "for index, row in df_evaluation.iterrows():\n",
    "    actual_sentiment, predicted_sentiment = row[\"Sentiment\"], row[\"predicted_sentiment\"]\n",
    "    if actual_sentiment == predicted_sentiment:\n",
    "        TP_sentiment += 1  # Correct argument assigned\n",
    "    else:\n",
    "        FP_sentiment += 1\n",
    "\n",
    "\n",
    "# Calculate precision_category, recall_category, and F1_category score\n",
    "accuracy_sentiment = TP_sentiment / (TP_sentiment + FP_sentiment)\n",
    "\n",
    "print(f\"TP_sentiment: {TP_sentiment}\")\n",
    "print(f\"FP_sentiment: {FP_sentiment}\")\n",
    "print(f\"accuracy_sentiment: {accuracy_sentiment}\")\n"
   ]
  },
  {
   "cell_type": "code",
   "execution_count": null,
   "metadata": {},
   "outputs": [],
   "source": []
  },
  {
   "cell_type": "code",
   "execution_count": null,
   "metadata": {},
   "outputs": [],
   "source": []
  }
 ],
 "metadata": {
  "kernelspec": {
   "display_name": "Python 3",
   "language": "python",
   "name": "python3"
  },
  "language_info": {
   "codemirror_mode": {
    "name": "ipython",
    "version": 3
   },
   "file_extension": ".py",
   "mimetype": "text/x-python",
   "name": "python",
   "nbconvert_exporter": "python",
   "pygments_lexer": "ipython3",
   "version": "3.11.6"
  }
 },
 "nbformat": 4,
 "nbformat_minor": 2
}
