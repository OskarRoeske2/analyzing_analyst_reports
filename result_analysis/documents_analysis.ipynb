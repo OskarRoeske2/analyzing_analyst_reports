{
 "cells": [
  {
   "cell_type": "code",
   "execution_count": null,
   "metadata": {},
   "outputs": [
    {
     "name": "stdout",
     "output_type": "stream",
     "text": [
      "                                              filename  number_of_pages\n",
      "0    20161018_Needham_META_Facebook-_3Q16_Preview_R...               14\n",
      "1    20200807_Wells_Fargo_META_FB-_2.5B_Person_Plat...                9\n",
      "2    20200918_Barclays_GM_General_Motors-_Time_to_t...                8\n",
      "3    20200722_Barclays_BKNG_Booking_Holdings_Inc.-_...               14\n",
      "4    20211104_Deutsche_Bank_X_US_Steel-_3Q21_EBITDA...                9\n",
      "..                                                 ...              ...\n",
      "912  20150522_Gilford_Securities_Inc_FL_Report_rece...                3\n",
      "913  20200526_Wells_Fargo_HD_HD-_Q2_Rollover_Falls_...                9\n",
      "914  20220125_Deutsche_Bank_WFC_Wells_Fargo-_More_C...                9\n",
      "915  20200212_Barclays_GM_General_Motors-_Waiting_p...               19\n",
      "916  20140122_Pivotal_Research_Group_GOOGL_GOOG-_Gr...                9\n",
      "\n",
      "[917 rows x 2 columns]\n"
     ]
    }
   ],
   "source": [
    "import os\n",
    "import pdfplumber\n",
    "import pandas as pd\n",
    "\n",
    "def count_pdf_pages(directory):\n",
    "    pdf_page_counts = []\n",
    "\n",
    "    # Iterate through all files in the directory\n",
    "    for filename in os.listdir(directory):\n",
    "        if filename.endswith('.pdf'):\n",
    "            file_path = os.path.join(directory, filename)\n",
    "\n",
    "            try:\n",
    "                # Open the PDF file with pdfplumber\n",
    "                with pdfplumber.open(file_path) as pdf:\n",
    "                    pdf_page_counts.append({\"filename\": filename, \"number_of_pages\": len(pdf.pages)})\n",
    "\n",
    "            except Exception as e:\n",
    "                # If there is an error, log it and continue\n",
    "                print(f\"Error processing {filename}: {e}\")\n",
    "\n",
    "    # Convert to DataFrame\n",
    "    return pd.DataFrame(pdf_page_counts)\n",
    "\n",
    "# Example usage:\n",
    "directory_path = \"/Users/oskarroeske/Desktop/Analyst_Reports/Production\"  # Replace with your directory path\n",
    "page_counts_df = count_pdf_pages(directory_path)\n",
    "\n",
    "# Display the DataFrame\n",
    "print(page_counts_df)\n"
   ]
  },
  {
   "cell_type": "code",
   "execution_count": null,
   "metadata": {},
   "outputs": [
    {
     "data": {
      "text/html": [
       "<div>\n",
       "<style scoped>\n",
       "    .dataframe tbody tr th:only-of-type {\n",
       "        vertical-align: middle;\n",
       "    }\n",
       "\n",
       "    .dataframe tbody tr th {\n",
       "        vertical-align: top;\n",
       "    }\n",
       "\n",
       "    .dataframe thead th {\n",
       "        text-align: right;\n",
       "    }\n",
       "</style>\n",
       "<table border=\"1\" class=\"dataframe\">\n",
       "  <thead>\n",
       "    <tr style=\"text-align: right;\">\n",
       "      <th></th>\n",
       "      <th>number_of_pages</th>\n",
       "    </tr>\n",
       "  </thead>\n",
       "  <tbody>\n",
       "    <tr>\n",
       "      <th>count</th>\n",
       "      <td>917.000000</td>\n",
       "    </tr>\n",
       "    <tr>\n",
       "      <th>mean</th>\n",
       "      <td>9.610687</td>\n",
       "    </tr>\n",
       "    <tr>\n",
       "      <th>std</th>\n",
       "      <td>4.822167</td>\n",
       "    </tr>\n",
       "    <tr>\n",
       "      <th>min</th>\n",
       "      <td>2.000000</td>\n",
       "    </tr>\n",
       "    <tr>\n",
       "      <th>25%</th>\n",
       "      <td>7.000000</td>\n",
       "    </tr>\n",
       "    <tr>\n",
       "      <th>50%</th>\n",
       "      <td>8.000000</td>\n",
       "    </tr>\n",
       "    <tr>\n",
       "      <th>75%</th>\n",
       "      <td>11.000000</td>\n",
       "    </tr>\n",
       "    <tr>\n",
       "      <th>max</th>\n",
       "      <td>40.000000</td>\n",
       "    </tr>\n",
       "  </tbody>\n",
       "</table>\n",
       "</div>"
      ],
      "text/plain": [
       "       number_of_pages\n",
       "count       917.000000\n",
       "mean          9.610687\n",
       "std           4.822167\n",
       "min           2.000000\n",
       "25%           7.000000\n",
       "50%           8.000000\n",
       "75%          11.000000\n",
       "max          40.000000"
      ]
     },
     "execution_count": 3,
     "metadata": {},
     "output_type": "execute_result"
    }
   ],
   "source": [
    "page_counts_df.describe()"
   ]
  },
  {
   "cell_type": "code",
   "execution_count": null,
   "metadata": {},
   "outputs": [],
   "source": []
  }
 ],
 "metadata": {
  "kernelspec": {
   "display_name": "Python 3",
   "language": "python",
   "name": "python3"
  },
  "language_info": {
   "codemirror_mode": {
    "name": "ipython",
    "version": 3
   },
   "file_extension": ".py",
   "mimetype": "text/x-python",
   "name": "python",
   "nbconvert_exporter": "python",
   "pygments_lexer": "ipython3",
   "version": "3.11.6"
  }
 },
 "nbformat": 4,
 "nbformat_minor": 2
}
