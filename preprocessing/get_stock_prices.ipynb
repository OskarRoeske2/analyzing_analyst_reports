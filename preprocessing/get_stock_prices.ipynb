{
 "cells": [
  {
   "cell_type": "code",
   "execution_count": 16,
   "metadata": {},
   "outputs": [
    {
     "name": "stderr",
     "output_type": "stream",
     "text": [
      "[*********************100%***********************]  64 of 64 completed\n"
     ]
    }
   ],
   "source": [
    "import yfinance as yf\n",
    "\n",
    "tickers = [\n",
    "    \"AAPL\", \"AMZN\", \"MSFT\", \"TSLA\", \"META\", \"GOOGL\", \"INTC\", \"NVDA\", \n",
    "    \"PFE\", \"JNJ\", \"KO\", \"PEP\", \"XOM\", \"CVX\", \"WMT\", \"JPM\", \"WFC\", \n",
    "    \"T\", \"VZ\", \"MRK\", \"HON\", \"LMT\", \"F\", \"GM\", \"EBAY\", \"MCD\", \"SBUX\", \n",
    "    \"CRM\", \"PYPL\", \"V\", \"MA\", \"COST\", \"HD\", \"NKE\", \"NEM\", \n",
    "    \"FCX\", \"FDX\", \"UNP\", \"X\", \"UA\", \"FL\", \"ETSY\", \"TRIP\", \"COTY\", \n",
    "    \"MUR\", \"AMCR\", \"PRGO\",\"PG\",\"BAC\",\"C\",\"ABT\",\"GE\",\"BA\", \n",
    "    \"NKTR\", \"SIG\", \"URBN\", \"NBR\", \"BKNG\", \"EXPE\", \"EL\", \"ULTA\", \"LULU\",\n",
    "    \"ADBE\",\"UAA\"\n",
    "]\n",
    "\n",
    "# Define the date range\n",
    "start_date = \"2014-01-01\"\n",
    "end_date = \"2022-12-31\"\n",
    "\n",
    "# Download data for the specified tickers and date range\n",
    "data = yf.download(tickers, start=start_date, end=end_date,actions=True)\n",
    "\n",
    "# Select only the \"Adj Close\" column\n",
    "close_data = data['Close']\n",
    "\n",
    "# Display the first few rows of the adjusted close data\n",
    "#adj_close_data\n"
   ]
  },
  {
   "cell_type": "code",
   "execution_count": 17,
   "metadata": {},
   "outputs": [],
   "source": [
    "import pandas as pd\n",
    "df = pd.DataFrame(close_data)"
   ]
  },
  {
   "cell_type": "code",
   "execution_count": 18,
   "metadata": {},
   "outputs": [
    {
     "data": {
      "text/plain": [
       "Date\n",
       "2014-01-02 00:00:00+00:00    21.745001\n",
       "2014-01-03 00:00:00+00:00    21.747499\n",
       "2014-01-06 00:00:00+00:00    21.652500\n",
       "2014-01-07 00:00:00+00:00    21.695000\n",
       "2014-01-08 00:00:00+00:00    21.725000\n",
       "                               ...    \n",
       "2022-12-23 00:00:00+00:00     9.770000\n",
       "2022-12-27 00:00:00+00:00     9.970000\n",
       "2022-12-28 00:00:00+00:00     9.600000\n",
       "2022-12-29 00:00:00+00:00     9.960000\n",
       "2022-12-30 00:00:00+00:00    10.160000\n",
       "Name: UAA, Length: 2266, dtype: float64"
      ]
     },
     "execution_count": 18,
     "metadata": {},
     "output_type": "execute_result"
    }
   ],
   "source": [
    "df[\"UAA\"]"
   ]
  },
  {
   "cell_type": "code",
   "execution_count": 19,
   "metadata": {},
   "outputs": [],
   "source": [
    "#pd.to_datetime(df['Date']).apply(lambda x: x.date())\n",
    "\n",
    "# Set 'Date' as the index to enable date filtering\n",
    "#df = df.set_index('Date')\n",
    "\n",
    "# Convert all columns (except the Date) to numeric, forcing errors to NaN\n",
    "df[df.columns] = df[df.columns].apply(pd.to_numeric, errors='coerce')"
   ]
  },
  {
   "cell_type": "code",
   "execution_count": 20,
   "metadata": {},
   "outputs": [],
   "source": [
    "df.to_csv(\"performance_data.csv\")"
   ]
  },
  {
   "cell_type": "code",
   "execution_count": 14,
   "metadata": {},
   "outputs": [
    {
     "name": "stdout",
     "output_type": "stream",
     "text": [
      "<class 'pandas.core.frame.DataFrame'>\n",
      "DatetimeIndex: 2266 entries, 2014-01-02 00:00:00+00:00 to 2022-12-30 00:00:00+00:00\n",
      "Data columns (total 63 columns):\n",
      " #   Column  Non-Null Count  Dtype  \n",
      "---  ------  --------------  -----  \n",
      " 0   AAPL    2266 non-null   float64\n",
      " 1   ABT     2266 non-null   float64\n",
      " 2   ADBE    2266 non-null   float64\n",
      " 3   AMCR    2266 non-null   float64\n",
      " 4   AMZN    2266 non-null   float64\n",
      " 5   BA      2266 non-null   float64\n",
      " 6   BAC     2266 non-null   float64\n",
      " 7   BKNG    2266 non-null   float64\n",
      " 8   C       2266 non-null   float64\n",
      " 9   COST    2266 non-null   float64\n",
      " 10  COTY    2266 non-null   float64\n",
      " 11  CRM     2266 non-null   float64\n",
      " 12  CVX     2266 non-null   float64\n",
      " 13  EBAY    2266 non-null   float64\n",
      " 14  EL      2266 non-null   float64\n",
      " 15  ETSY    1943 non-null   float64\n",
      " 16  EXPE    2266 non-null   float64\n",
      " 17  F       2266 non-null   float64\n",
      " 18  FCX     2266 non-null   float64\n",
      " 19  FDX     2266 non-null   float64\n",
      " 20  FL      2266 non-null   float64\n",
      " 21  GE      2266 non-null   float64\n",
      " 22  GM      2266 non-null   float64\n",
      " 23  GOOGL   2266 non-null   float64\n",
      " 24  HD      2266 non-null   float64\n",
      " 25  HON     2266 non-null   float64\n",
      " 26  INTC    2266 non-null   float64\n",
      " 27  JNJ     2266 non-null   float64\n",
      " 28  JPM     2266 non-null   float64\n",
      " 29  KO      2266 non-null   float64\n",
      " 30  LMT     2266 non-null   float64\n",
      " 31  LULU    2266 non-null   float64\n",
      " 32  MA      2266 non-null   float64\n",
      " 33  MCD     2266 non-null   float64\n",
      " 34  META    2266 non-null   float64\n",
      " 35  MRK     2266 non-null   float64\n",
      " 36  MSFT    2266 non-null   float64\n",
      " 37  MUR     2266 non-null   float64\n",
      " 38  NBR     2266 non-null   float64\n",
      " 39  NEM     2266 non-null   float64\n",
      " 40  NKE     2266 non-null   float64\n",
      " 41  NKTR    2266 non-null   float64\n",
      " 42  NVDA    2266 non-null   float64\n",
      " 43  PEP     2266 non-null   float64\n",
      " 44  PFE     2266 non-null   float64\n",
      " 45  PG      2266 non-null   float64\n",
      " 46  PRGO    2266 non-null   float64\n",
      " 47  PYPL    1888 non-null   float64\n",
      " 48  SBUX    2266 non-null   float64\n",
      " 49  SIG     2266 non-null   float64\n",
      " 50  T       2266 non-null   float64\n",
      " 51  TRIP    2266 non-null   float64\n",
      " 52  TSLA    2266 non-null   float64\n",
      " 53  UA      1707 non-null   float64\n",
      " 54  ULTA    2266 non-null   float64\n",
      " 55  UNP     2266 non-null   float64\n",
      " 56  URBN    2266 non-null   float64\n",
      " 57  V       2266 non-null   float64\n",
      " 58  VZ      2266 non-null   float64\n",
      " 59  WFC     2266 non-null   float64\n",
      " 60  WMT     2266 non-null   float64\n",
      " 61  X       2266 non-null   float64\n",
      " 62  XOM     2266 non-null   float64\n",
      "dtypes: float64(63)\n",
      "memory usage: 1.1 MB\n"
     ]
    }
   ],
   "source": [
    "df.info()"
   ]
  },
  {
   "cell_type": "code",
   "execution_count": null,
   "metadata": {},
   "outputs": [],
   "source": []
  }
 ],
 "metadata": {
  "kernelspec": {
   "display_name": "Python 3",
   "language": "python",
   "name": "python3"
  },
  "language_info": {
   "codemirror_mode": {
    "name": "ipython",
    "version": 3
   },
   "file_extension": ".py",
   "mimetype": "text/x-python",
   "name": "python",
   "nbconvert_exporter": "python",
   "pygments_lexer": "ipython3",
   "version": "3.11.6"
  }
 },
 "nbformat": 4,
 "nbformat_minor": 2
}
